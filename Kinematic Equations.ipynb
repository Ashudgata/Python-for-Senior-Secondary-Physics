{
 "cells": [
  {
   "cell_type": "markdown",
   "id": "31c0a259-fcb7-444d-9724-394373db9857",
   "metadata": {},
   "source": [
    "# Kinematic Equations Program"
   ]
  },
  {
   "cell_type": "markdown",
   "id": "0dc86435-8d56-4552-9dc0-43eca0362d7e",
   "metadata": {},
   "source": [
    "**Author** - Ashwini Kumar Udgata <br>\n",
    "**Date** - 2025, March 8th"
   ]
  },
  {
   "cell_type": "markdown",
   "id": "d7ffe079-e7c8-4437-961e-f2f679f9a5fb",
   "metadata": {},
   "source": [
    "## Program Overview\n",
    "Programs for solving Kinematics equations "
   ]
  },
  {
   "cell_type": "code",
   "execution_count": 14,
   "id": "63e42b70-d17f-48fa-b845-2595449548b6",
   "metadata": {},
   "outputs": [
    {
     "name": "stdin",
     "output_type": "stream",
     "text": [
      "Input Initial Velocity in m/s: 3\n",
      "Input Acceleration in m/s^2: 2\n",
      "Input Time in s: 5\n"
     ]
    },
    {
     "name": "stdout",
     "output_type": "stream",
     "text": [
      "The final velocity is: 13.0 m/s\n"
     ]
    }
   ],
   "source": [
    "#Equation v = u + at\n",
    "u = float(input('Input Initial Velocity in m/s:'))\n",
    "a = float(input('Input Acceleration in m/s^2:'))\n",
    "t = float(input('Input Time in s:'))\n",
    "v = u + a*t\n",
    "print(f'The final velocity is: {v} m/s')         "
   ]
  },
  {
   "cell_type": "code",
   "execution_count": 16,
   "id": "11bfb7d3-0aa2-4eb5-9e35-8144429f6964",
   "metadata": {},
   "outputs": [
    {
     "name": "stdin",
     "output_type": "stream",
     "text": [
      "Input Initial Velocity in m/s: 3\n",
      "Input Acceleration in m/s^2: 2\n",
      "Input Time in s: 5\n"
     ]
    },
    {
     "name": "stdout",
     "output_type": "stream",
     "text": [
      "The displacement is: 40.0 m\n"
     ]
    }
   ],
   "source": [
    "#Equation s = ut + 1/2 at^2\n",
    "u = float(input('Input Initial Velocity in m/s:'))\n",
    "a = float(input('Input Acceleration in m/s^2:'))\n",
    "t = float(input('Input Time in s:'))\n",
    "s = (u*t) + (0.5*a*(t**2))\n",
    "print(f'The displacement is: {s} m')  "
   ]
  },
  {
   "cell_type": "code",
   "execution_count": 26,
   "id": "b07f68e5-79c2-42ae-841d-fafe6455ac04",
   "metadata": {},
   "outputs": [
    {
     "name": "stdin",
     "output_type": "stream",
     "text": [
      "Input Initial Velocity in m/s: 3\n",
      "Input Acceleration in m/s^2: 2\n",
      "Input Displacement in m: 40\n"
     ]
    },
    {
     "name": "stdout",
     "output_type": "stream",
     "text": [
      "The final velocity is: 13.0 m/s\n"
     ]
    }
   ],
   "source": [
    "#Equation v^2 = u^2 + 2as\n",
    "import math\n",
    "u = float(input('Input Initial Velocity in m/s:'))\n",
    "a = float(input('Input Acceleration in m/s^2:'))\n",
    "s = float(input('Input Displacement in m:'))\n",
    "v = math.sqrt((u**2)+ (2*a*s))\n",
    "print(f'The final velocity is: {v} m/s')"
   ]
  },
  {
   "cell_type": "code",
   "execution_count": 5,
   "id": "f93d928d-9ff3-4c65-9963-a81698937312",
   "metadata": {},
   "outputs": [
    {
     "name": "stdin",
     "output_type": "stream",
     "text": [
      "Input Initial Velocity in m/s: 3\n",
      "Input Acceleration in m/s^2: 2\n",
      "Input the value for the second in which the displacement is to be obtained: 5\n"
     ]
    },
    {
     "name": "stdout",
     "output_type": "stream",
     "text": [
      "Displacement in the 5.0th second is: 12.0 m\n"
     ]
    }
   ],
   "source": [
    "# Equation s_nth = u + a/2*(2n-1)\n",
    "u = float(input('Input Initial Velocity in m/s:'))\n",
    "a = float(input('Input Acceleration in m/s^2:'))\n",
    "n = float(input('Input the value for the second in which the displacement is to be obtained:'))\n",
    "s_nth = u + (0.5*a*((2*n)-1))\n",
    "print(f'Displacement in the {n}th second is: {s_nth} m')"
   ]
  },
  {
   "cell_type": "code",
   "execution_count": null,
   "id": "b4c882b9-7344-4aa1-9493-7c04214aac46",
   "metadata": {},
   "outputs": [],
   "source": []
  }
 ],
 "metadata": {
  "kernelspec": {
   "display_name": "Python 3 (ipykernel)",
   "language": "python",
   "name": "python3"
  },
  "language_info": {
   "codemirror_mode": {
    "name": "ipython",
    "version": 3
   },
   "file_extension": ".py",
   "mimetype": "text/x-python",
   "name": "python",
   "nbconvert_exporter": "python",
   "pygments_lexer": "ipython3",
   "version": "3.12.4"
  }
 },
 "nbformat": 4,
 "nbformat_minor": 5
}
